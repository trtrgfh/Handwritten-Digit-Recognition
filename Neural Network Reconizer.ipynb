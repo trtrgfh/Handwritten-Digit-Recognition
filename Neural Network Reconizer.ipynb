{
 "cells": [
  {
   "cell_type": "code",
   "execution_count": 1,
   "id": "c108218a",
   "metadata": {},
   "outputs": [],
   "source": [
    "import numpy as np\n",
    "from sklearn.model_selection import train_test_split\n",
    "import matplotlib.pyplot as plt\n",
    "from helper import *\n",
    "import tensorflow as tf\n",
    "from tensorflow.keras.models import Sequential\n",
    "from tensorflow.keras.layers import Dense\n",
    "from tensorflow.keras.activations import linear, relu, sigmoid\n",
    "import random"
   ]
  },
  {
   "cell_type": "code",
   "execution_count": 2,
   "id": "581e0185",
   "metadata": {},
   "outputs": [],
   "source": [
    "def load_data():\n",
    "    X = np.load(\"data/X.npy\")\n",
    "    y = np.load(\"data/y.npy\")\n",
    "    return split_data(X, y)"
   ]
  },
  {
   "cell_type": "code",
   "execution_count": 3,
   "id": "c0fb884b",
   "metadata": {},
   "outputs": [],
   "source": [
    "def split_data(X, y, train_size = 0.7):\n",
    "    \"\"\"\n",
    "    Return a dictionary containing the traning set, validation set and the test set\n",
    "    \"\"\"\n",
    "    X_train, X_val_test, y_train, y_val_test = train_test_split(X, y, train_size=train_size)\n",
    "    X_val, X_test, y_val, y_test = train_test_split(X_val_test, y_val_test, train_size=0.5)\n",
    "    data = {\"train\": (X_train, y_train), \"val\": (X_val, y_val), \"test\": (X_test, y_test)}\n",
    "    return data"
   ]
  },
  {
   "cell_type": "code",
   "execution_count": 4,
   "id": "c9df0596",
   "metadata": {},
   "outputs": [],
   "source": [
    "def create_nn():\n",
    "    # Since each image is 20 by 20, the input is 400\n",
    "    tf.random.set_seed(1234)\n",
    "    model = Sequential(\n",
    "        [\n",
    "            tf.keras.Input(shape=(400,)),\n",
    "            Dense(25, activation = 'relu', name = 'layer1'),\n",
    "            Dense(15, activation = 'relu', name = 'layer2'),\n",
    "            Dense(10, activation = 'linear', name = 'layer3')\n",
    "        ], name = \"nn_model\")\n",
    "    return model"
   ]
  },
  {
   "cell_type": "code",
   "execution_count": 5,
   "id": "26a3d36b",
   "metadata": {},
   "outputs": [],
   "source": [
    "def select_model(data, learning_rate, epochs):\n",
    "    best_acc = 0\n",
    "    best_epoch = 0\n",
    "    best_lr = 0\n",
    "    best_model = None\n",
    "\n",
    "    for epoch in epochs:\n",
    "        for l in learning_rate:\n",
    "            model = create_nn()\n",
    "            model.compile(\n",
    "                loss=tf.keras.losses.SparseCategoricalCrossentropy(from_logits=True),\n",
    "                optimizer=tf.keras.optimizers.Adam(learning_rate=l),\n",
    "            )\n",
    "            model.fit(\n",
    "                data['train'][0], data['train'][1],\n",
    "                epochs=epoch\n",
    "            )\n",
    "            train_prediction, train_acc = predict(model, data['train'][0], data['train'][1])\n",
    "            # print(\"epochs: {}, learning rate: {}, train_acc: {}\".format(epoch, l, train_acc))\n",
    "            train_prediction, val_acc = predict(model, data['val'][0], data['val'][1])\n",
    "            # print(\"epochs: {}, learning rate: {}, val_acc: {}\".format(epoch, l, val_acc))\n",
    "\n",
    "            if val_acc > best_acc:\n",
    "                best_acc = val_acc\n",
    "                best_epoch = epoch\n",
    "                best_lr = l\n",
    "                best_model = model\n",
    "\n",
    "    print(\"best epochs: {}, best learning rate: {}\".format(best_epoch, best_lr))\n",
    "\n",
    "    return best_model"
   ]
  },
  {
   "cell_type": "code",
   "execution_count": 6,
   "id": "fc27b424",
   "metadata": {},
   "outputs": [],
   "source": [
    "def predict(model, X, y):\n",
    "    m, n = X.shape\n",
    "    prediction = model.predict(X.reshape(-1, 400))\n",
    "    # if you need a probability output then use prediction = tf.nn.softmax(prediction)\n",
    "    prediction = np.argmax(prediction, axis = 1)\n",
    "    prediction = prediction.reshape(m, 1)\n",
    "    accuracy = np.sum((prediction == y) / m)\n",
    "\n",
    "    return prediction, accuracy"
   ]
  },
  {
   "cell_type": "code",
   "execution_count": 7,
   "id": "c0e9f4ce",
   "metadata": {
    "scrolled": true
   },
   "outputs": [
    {
     "name": "stderr",
     "output_type": "stream",
     "text": [
      "2022-08-05 01:55:15.114100: I tensorflow/core/platform/cpu_feature_guard.cc:145] This TensorFlow binary is optimized with Intel(R) MKL-DNN to use the following CPU instructions in performance critical operations:  SSE4.1 SSE4.2\n",
      "To enable them in non-MKL-DNN operations, rebuild TensorFlow with the appropriate compiler flags.\n",
      "2022-08-05 01:55:15.114530: I tensorflow/core/common_runtime/process_util.cc:115] Creating new thread pool with default inter op setting: 8. Tune using inter_op_parallelism_threads for best performance.\n"
     ]
    },
    {
     "name": "stdout",
     "output_type": "stream",
     "text": [
      "Train on 3500 samples\n",
      "Epoch 1/40\n",
      "3500/3500 [==============================] - 1s 201us/sample - loss: 1.8733\n",
      "Epoch 2/40\n",
      "3500/3500 [==============================] - 0s 79us/sample - loss: 1.0186\n",
      "Epoch 3/40\n",
      "3500/3500 [==============================] - 0s 91us/sample - loss: 0.5451\n",
      "Epoch 4/40\n",
      "3500/3500 [==============================] - 0s 74us/sample - loss: 0.4098\n",
      "Epoch 5/40\n",
      "3500/3500 [==============================] - 0s 70us/sample - loss: 0.3458\n",
      "Epoch 6/40\n",
      "3500/3500 [==============================] - 0s 71us/sample - loss: 0.3016\n",
      "Epoch 7/40\n",
      "3500/3500 [==============================] - 0s 70us/sample - loss: 0.2732\n",
      "Epoch 8/40\n",
      "3500/3500 [==============================] - 0s 69us/sample - loss: 0.2469\n",
      "Epoch 9/40\n",
      "3500/3500 [==============================] - 0s 69us/sample - loss: 0.2238\n",
      "Epoch 10/40\n",
      "3500/3500 [==============================] - 0s 67us/sample - loss: 0.2069\n",
      "Epoch 11/40\n",
      "3500/3500 [==============================] - 0s 68us/sample - loss: 0.1880\n",
      "Epoch 12/40\n",
      "3500/3500 [==============================] - 0s 68us/sample - loss: 0.1733\n",
      "Epoch 13/40\n",
      "3500/3500 [==============================] - 0s 68us/sample - loss: 0.1626\n",
      "Epoch 14/40\n",
      "3500/3500 [==============================] - 0s 70us/sample - loss: 0.1489\n",
      "Epoch 15/40\n",
      "3500/3500 [==============================] - 0s 67us/sample - loss: 0.1396\n",
      "Epoch 16/40\n",
      "3500/3500 [==============================] - 0s 67us/sample - loss: 0.1317\n",
      "Epoch 17/40\n",
      "3500/3500 [==============================] - 0s 69us/sample - loss: 0.1229\n",
      "Epoch 18/40\n",
      "3500/3500 [==============================] - 0s 79us/sample - loss: 0.1179\n",
      "Epoch 19/40\n",
      "3500/3500 [==============================] - 0s 69us/sample - loss: 0.1086\n",
      "Epoch 20/40\n",
      "3500/3500 [==============================] - 0s 70us/sample - loss: 0.1025\n",
      "Epoch 21/40\n",
      "3500/3500 [==============================] - 0s 69us/sample - loss: 0.0982\n",
      "Epoch 22/40\n",
      "3500/3500 [==============================] - 0s 73us/sample - loss: 0.0908\n",
      "Epoch 23/40\n",
      "3500/3500 [==============================] - 0s 71us/sample - loss: 0.0844\n",
      "Epoch 24/40\n",
      "3500/3500 [==============================] - 0s 98us/sample - loss: 0.0780\n",
      "Epoch 25/40\n",
      "3500/3500 [==============================] - 0s 124us/sample - loss: 0.0728\n",
      "Epoch 26/40\n",
      "3500/3500 [==============================] - 0s 72us/sample - loss: 0.0681\n",
      "Epoch 27/40\n",
      "3500/3500 [==============================] - 0s 75us/sample - loss: 0.0648\n",
      "Epoch 28/40\n",
      "3500/3500 [==============================] - 0s 84us/sample - loss: 0.0605\n",
      "Epoch 29/40\n",
      "3500/3500 [==============================] - 0s 77us/sample - loss: 0.0553\n",
      "Epoch 30/40\n",
      "3500/3500 [==============================] - 0s 72us/sample - loss: 0.0536\n",
      "Epoch 31/40\n",
      "3500/3500 [==============================] - 0s 73us/sample - loss: 0.0485\n",
      "Epoch 32/40\n",
      "3500/3500 [==============================] - 0s 73us/sample - loss: 0.0473\n",
      "Epoch 33/40\n",
      "3500/3500 [==============================] - 0s 75us/sample - loss: 0.0428\n",
      "Epoch 34/40\n",
      "3500/3500 [==============================] - 0s 82us/sample - loss: 0.0402\n",
      "Epoch 35/40\n",
      "3500/3500 [==============================] - 0s 118us/sample - loss: 0.0358\n",
      "Epoch 36/40\n",
      "3500/3500 [==============================] - 0s 95us/sample - loss: 0.0344\n",
      "Epoch 37/40\n",
      "3500/3500 [==============================] - 1s 186us/sample - loss: 0.0341\n",
      "Epoch 38/40\n",
      "3500/3500 [==============================] - 0s 76us/sample - loss: 0.0303\n",
      "Epoch 39/40\n",
      "3500/3500 [==============================] - 0s 83us/sample - loss: 0.0266\n",
      "Epoch 40/40\n",
      "3500/3500 [==============================] - 1s 160us/sample - loss: 0.0252\n",
      "best epochs: 40, best learning rate: 0.001\n"
     ]
    }
   ],
   "source": [
    "# The data contains 5000 examples of handwritten digits. Each example is a 20 pixel by 20 pixel grayscale image\n",
    "# Each 20 by 20 image is unrolled into a 400 dimensional vector.\n",
    "data = load_data()\n",
    "\n",
    "# learning_rate = [0.001, 0.01, 0.05]\n",
    "# epochs = [10, 25, 40, 60]\n",
    "learning_rate = [0.001]\n",
    "epochs = [40]\n",
    "best_model = select_model(data, learning_rate, epochs)\n",
    "\n",
    "# random_idx = random.sample(range(0, len(data['test'][0])), 10)\n",
    "# example = data['test'][1][random_idx]\n",
    "# ex_pred, acc = predict(best_model, data['test'][0], data['test'][1])\n",
    "# print(example.T)\n",
    "# print(ex_pred[random_idx].T)"
   ]
  },
  {
   "cell_type": "code",
   "execution_count": 10,
   "id": "6786f367",
   "metadata": {},
   "outputs": [
    {
     "name": "stdout",
     "output_type": "stream",
     "text": [
      "train_acc: 0.9980\n",
      "val_acc: 0.9347\n",
      "test_acc: 0.9227\n"
     ]
    }
   ],
   "source": [
    "train_prediction, train_acc = predict(best_model, data['train'][0], data['train'][1])\n",
    "print(\"train_acc: {:.4f}\".format(train_acc))\n",
    "\n",
    "train_prediction, val_acc = predict(best_model, data['val'][0], data['val'][1])\n",
    "print(\"val_acc: {:.4f}\".format(val_acc))\n",
    "\n",
    "test_prediction, test_acc = predict(best_model, data['test'][0], data['test'][1])\n",
    "print(\"test_acc: {:.4f}\".format(test_acc))"
   ]
  },
  {
   "cell_type": "code",
   "execution_count": 9,
   "id": "de5934db",
   "metadata": {},
   "outputs": [
    {
     "name": "stdout",
     "output_type": "stream",
     "text": [
      "58 errors out of 750 images in test set\n"
     ]
    },
    {
     "data": {
      "image/png": "[encoded data removed]",
      "text/plain": [
       "<Figure size 360x86.4 with 8 Axes>"
      ]
     },
     "metadata": {
      "needs_background": "light"
     },
     "output_type": "display_data"
    }
   ],
   "source": [
    "print(f\"{display_errors(best_model, data['test'][0], data['test'][1])} errors out of {len(data['test'][0])} images in test set\")\n",
    "plt.show()"
   ]
  },
  {
   "cell_type": "code",
   "execution_count": null,
   "id": "c4e6fd92",
   "metadata": {},
   "outputs": [],
   "source": []
  }
 ],
 "metadata": {
  "kernelspec": {
   "display_name": "Python 3 (ipykernel)",
   "language": "python",
   "name": "python3"
  },
  "language_info": {
   "codemirror_mode": {
    "name": "ipython",
    "version": 3
   },
   "file_extension": ".py",
   "mimetype": "text/x-python",
   "name": "python",
   "nbconvert_exporter": "python",
   "pygments_lexer": "ipython3",
   "version": "3.7.13"
  }
 },
 "nbformat": 4,
 "nbformat_minor": 5
}
